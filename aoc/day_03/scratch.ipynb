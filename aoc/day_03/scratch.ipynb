{
 "cells": [
  {
   "cell_type": "code",
   "execution_count": 117,
   "metadata": {},
   "outputs": [],
   "source": [
    "from enum import Enum\n",
    "from multiprocess import Pool\n",
    "from typing import List"
   ]
  },
  {
   "cell_type": "code",
   "execution_count": 107,
   "metadata": {},
   "outputs": [],
   "source": [
    "\n",
    "input = \"\"\"\n",
    "..##.......\n",
    "#...#...#..\n",
    ".#....#..#.\n",
    "..#.#...#.#\n",
    ".#...##..#.\n",
    "..#.##.....\n",
    ".#.#.#....#\n",
    ".#........#\n",
    "#.##...#...\n",
    "#...##....#\n",
    ".#..#...#.#\n",
    "\"\"\".strip()\n",
    "\n",
    "answers = (7,)"
   ]
  },
  {
   "cell_type": "code",
   "execution_count": 108,
   "metadata": {},
   "outputs": [],
   "source": [
    "class Obstacle(str, Enum):\n",
    "    TREE = \"#\"\n",
    "    OPEN = \".\"\n",
    "    "
   ]
  },
  {
   "cell_type": "code",
   "execution_count": 109,
   "metadata": {},
   "outputs": [],
   "source": [
    "def nth(data: List[Obstacle], pos: int) -> Obstacle:\n",
    "    return data[pos%len(data)]"
   ]
  },
  {
   "cell_type": "code",
   "execution_count": 118,
   "metadata": {},
   "outputs": [],
   "source": [
    "def get_move_obstacle(row: int, loc_map: List[List[str]]) -> Obstacle:\n",
    "    return (nth(loc_map, (row)*3))"
   ]
  },
  {
   "cell_type": "code",
   "execution_count": 111,
   "metadata": {},
   "outputs": [],
   "source": [
    "loc_map = [list(ln) for ln in input.splitlines()]"
   ]
  },
  {
   "cell_type": "code",
   "execution_count": 112,
   "metadata": {},
   "outputs": [
    {
     "data": {
      "text/plain": [
       "7"
      ]
     },
     "execution_count": 112,
     "metadata": {},
     "output_type": "execute_result"
    }
   ],
   "source": [
    "with Pool(processes=16) as pool:\n",
    "    moves = pool.starmap(get_move_obstacle, enumerate(loc_map))\n",
    "moves.count(Obstacle.TREE)"
   ]
  },
  {
   "cell_type": "code",
   "execution_count": 113,
   "metadata": {},
   "outputs": [
    {
     "data": {
      "text/plain": [
       "<Obstacle.OPEN: '.'>"
      ]
     },
     "execution_count": 113,
     "metadata": {},
     "output_type": "execute_result"
    }
   ],
   "source": [
    "# cycle split(\"\")\n",
    "Obstacle.TREE == \"#\"\n",
    "Obstacle(\".\")"
   ]
  },
  {
   "cell_type": "code",
   "execution_count": 114,
   "metadata": {},
   "outputs": [
    {
     "data": {
      "text/plain": [
       "'#'"
      ]
     },
     "execution_count": 114,
     "metadata": {},
     "output_type": "execute_result"
    }
   ],
   "source": [
    "nth(loc_map[3], 10)"
   ]
  },
  {
   "cell_type": "code",
   "execution_count": 115,
   "metadata": {},
   "outputs": [
    {
     "data": {
      "text/plain": [
       "11"
      ]
     },
     "execution_count": 115,
     "metadata": {},
     "output_type": "execute_result"
    }
   ],
   "source": [
    "len(loc_map[3])"
   ]
  },
  {
   "cell_type": "code",
   "execution_count": 116,
   "metadata": {},
   "outputs": [
    {
     "name": "stdout",
     "output_type": "stream",
     "text": [
      "['.', '.', '#', '.', '#', '#', '.', '#', '#', '#', '#']\n"
     ]
    }
   ],
   "source": [
    "print(moves)"
   ]
  },
  {
   "cell_type": "code",
   "execution_count": 125,
   "metadata": {},
   "outputs": [
    {
     "data": {
      "text/plain": [
       "[(0, ['.', '.', '#', '#', '.', '.', '.', '.', '.', '.', '.']),\n",
       " (1, ['#', '.', '.', '.', '#', '.', '.', '.', '#', '.', '.']),\n",
       " (2, ['.', '#', '.', '.', '.', '.', '#', '.', '.', '#', '.']),\n",
       " (3, ['.', '.', '#', '.', '#', '.', '.', '.', '#', '.', '#']),\n",
       " (4, ['.', '#', '.', '.', '.', '#', '#', '.', '.', '#', '.']),\n",
       " (5, ['.', '.', '#', '.', '#', '#', '.', '.', '.', '.', '.']),\n",
       " (6, ['.', '#', '.', '#', '.', '#', '.', '.', '.', '.', '#']),\n",
       " (7, ['.', '#', '.', '.', '.', '.', '.', '.', '.', '.', '#']),\n",
       " (8, ['#', '.', '#', '#', '.', '.', '.', '#', '.', '.', '.']),\n",
       " (9, ['#', '.', '.', '.', '#', '#', '.', '.', '.', '.', '#']),\n",
       " (10, ['.', '#', '.', '.', '#', '.', '.', '.', '#', '.', '#'])]"
      ]
     },
     "execution_count": 125,
     "metadata": {},
     "output_type": "execute_result"
    }
   ],
   "source": [
    "list(enumerate(loc_map))"
   ]
  },
  {
   "cell_type": "code",
   "execution_count": 123,
   "metadata": {},
   "outputs": [
    {
     "data": {
      "text/plain": [
       "[(0, ['.', '.', '#', '#', '.', '.', '.', '.', '.', '.', '.']),\n",
       " (2, ['.', '#', '.', '.', '.', '.', '#', '.', '.', '#', '.']),\n",
       " (4, ['.', '#', '.', '.', '.', '#', '#', '.', '.', '#', '.']),\n",
       " (6, ['.', '#', '.', '#', '.', '#', '.', '.', '.', '.', '#']),\n",
       " (8, ['#', '.', '#', '#', '.', '.', '.', '#', '.', '.', '.']),\n",
       " (10, ['.', '#', '.', '.', '#', '.', '.', '.', '#', '.', '#'])]"
      ]
     },
     "execution_count": 123,
     "metadata": {},
     "output_type": "execute_result"
    }
   ],
   "source": [
    "list(enumerate(loc_map))[::2]"
   ]
  },
  {
   "cell_type": "code",
   "execution_count": null,
   "metadata": {},
   "outputs": [],
   "source": []
  }
 ],
 "metadata": {
  "kernelspec": {
   "display_name": "Python 3",
   "language": "python",
   "name": "python3"
  },
  "language_info": {
   "codemirror_mode": {
    "name": "ipython",
    "version": 3
   },
   "file_extension": ".py",
   "mimetype": "text/x-python",
   "name": "python",
   "nbconvert_exporter": "python",
   "pygments_lexer": "ipython3",
   "version": "3.9.0"
  }
 },
 "nbformat": 4,
 "nbformat_minor": 4
}
